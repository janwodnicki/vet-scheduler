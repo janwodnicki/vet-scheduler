{
 "cells": [
  {
   "cell_type": "code",
   "execution_count": 65,
   "id": "904a204d",
   "metadata": {},
   "outputs": [
    {
     "name": "stdout",
     "output_type": "stream",
     "text": [
      "Set parameter Username\n",
      "Academic license - for non-commercial use only - expires 2022-04-18\n",
      "Set parameter TimeLimit to value 20\n",
      "Set parameter Presolve to value 0\n",
      "Set parameter TimeLimit to value 20\n",
      "Set parameter Presolve to value 0\n",
      "Gurobi Optimizer version 9.5.1 build v9.5.1rc2 (mac64[x86])\n",
      "Thread count: 4 physical cores, 8 logical processors, using up to 8 threads\n",
      "Optimize a model with 504 rows, 378 columns and 2328 nonzeros\n",
      "Model fingerprint: 0xe9ccf252\n",
      "Model has 4338 quadratic objective terms\n",
      "Variable types: 0 continuous, 378 integer (378 binary)\n",
      "Coefficient statistics:\n",
      "  Matrix range     [1e+00, 1e+00]\n",
      "  Objective range  [1e+01, 1e+01]\n",
      "  QObjective range [2e+00, 1e+01]\n",
      "  Bounds range     [0e+00, 0e+00]\n",
      "  RHS range        [1e+00, 2e+00]\n",
      "Variable types: 0 continuous, 4338 integer (4338 binary)\n",
      "\n",
      "Root relaxation: objective -3.580000e+02, 820 iterations, 0.03 seconds (0.03 work units)\n",
      "\n",
      "    Nodes    |    Current Node    |     Objective Bounds      |     Work\n",
      " Expl Unexpl |  Obj  Depth IntInf | Incumbent    BestBd   Gap | It/Node Time\n",
      "\n",
      "     0     0 -358.00000    0  180          - -358.00000      -     -    0s\n",
      "     0     0 1.000e+100    0  287          - infeasible      -     -    0s\n",
      "\n",
      "Cutting planes:\n",
      "  Gomory: 2\n",
      "  MIR: 2\n",
      "  Zero half: 112\n",
      "  RLT: 262\n",
      "  BQP: 845\n",
      "\n",
      "Explored 1 nodes (3016 simplex iterations) in 0.36 seconds (0.34 work units)\n",
      "Thread count was 8 (of 8 available processors)\n",
      "\n",
      "Solution count 0\n",
      "\n",
      "Model is infeasible\n",
      "Best objective -, best bound -, gap -\n",
      "\n",
      "User-callback calls 104, time in user-callback 0.00 sec\n"
     ]
    },
    {
     "ename": "LoadError",
     "evalue": "MethodError: \u001b[0mCannot `convert` an object of type \u001b[92mMissing\u001b[39m\u001b[0m to an object of type \u001b[91mFloat64\u001b[39m\n\u001b[0mClosest candidates are:\n\u001b[0m  convert(::Type{T}, \u001b[91m::Base.TwicePrecision\u001b[39m) where T<:Number at /Applications/Julia-1.7.app/Contents/Resources/julia/share/julia/base/twiceprecision.jl:262\n\u001b[0m  convert(::Type{T}, \u001b[91m::AbstractChar\u001b[39m) where T<:Number at /Applications/Julia-1.7.app/Contents/Resources/julia/share/julia/base/char.jl:185\n\u001b[0m  convert(::Type{T}, \u001b[91m::CartesianIndex{1}\u001b[39m) where T<:Number at /Applications/Julia-1.7.app/Contents/Resources/julia/share/julia/base/multidimensional.jl:136\n\u001b[0m  ...",
     "output_type": "error",
     "traceback": [
      "MethodError: \u001b[0mCannot `convert` an object of type \u001b[92mMissing\u001b[39m\u001b[0m to an object of type \u001b[91mFloat64\u001b[39m\n\u001b[0mClosest candidates are:\n\u001b[0m  convert(::Type{T}, \u001b[91m::Base.TwicePrecision\u001b[39m) where T<:Number at /Applications/Julia-1.7.app/Contents/Resources/julia/share/julia/base/twiceprecision.jl:262\n\u001b[0m  convert(::Type{T}, \u001b[91m::AbstractChar\u001b[39m) where T<:Number at /Applications/Julia-1.7.app/Contents/Resources/julia/share/julia/base/char.jl:185\n\u001b[0m  convert(::Type{T}, \u001b[91m::CartesianIndex{1}\u001b[39m) where T<:Number at /Applications/Julia-1.7.app/Contents/Resources/julia/share/julia/base/multidimensional.jl:136\n\u001b[0m  ...",
      "",
      "Stacktrace:",
      " [1] JuMP._SolutionSummary(verbose::Bool, solver::String, termination_status::MathOptInterface.TerminationStatusCode, primal_status::MathOptInterface.ResultStatusCode, dual_status::MathOptInterface.ResultStatusCode, raw_status::String, result_count::Int64, has_values::Bool, has_duals::Bool, objective_value::Missing, objective_bound::Float64, dual_objective_value::Missing, primal_solution::Missing, dual_solution::Missing, solve_time::Float64, barrier_iterations::Int64, simplex_iterations::Missing, node_count::Int64)",
      "   @ JuMP ~/.julia/packages/JuMP/lnUbA/src/solution_summary.jl:9",
      " [2] solution_summary(model::Model; verbose::Bool)",
      "   @ JuMP ~/.julia/packages/JuMP/lnUbA/src/solution_summary.jl:57",
      " [3] solution_summary(model::Model)",
      "   @ JuMP ~/.julia/packages/JuMP/lnUbA/src/solution_summary.jl:57",
      " [4] top-level scope",
      "   @ In[65]:111",
      " [5] eval",
      "   @ ./boot.jl:373 [inlined]",
      " [6] include_string(mapexpr::typeof(REPL.softscope), mod::Module, code::String, filename::String)",
      "   @ Base ./loading.jl:1196"
     ]
    }
   ],
   "source": [
    "using JuMP, Cbc, Gurobi, NamedArrays, LinearAlgebra\n",
    "\n",
    "# Constants\n",
    "num_weeks = 21\n",
    "consecutive_weight = 2\n",
    "\n",
    "# Sets\n",
    "P = [:NM, :MP, :SA, :LKC, :DG] # Pathologists\n",
    "R = [:MC, :AK, :CC, :KB]\n",
    "A = union(P,R)\n",
    "W = 1:num_weeks\n",
    "\n",
    "# Availability\n",
    "availability = [\n",
    "    0 0 0 1 0 0 1 0 0;\n",
    "    0 1 1 1 0 0 0 0 1;\n",
    "    0 0 1 1 0 0 0 0 1;\n",
    "    0 1 1 1 0 0 0 0 0;\n",
    "    0 0 1 1 0 0 0 1 0;\n",
    "    0 0 0 1 0 0 1 1 0;\n",
    "    0 1 0 1 1 0 0 0 0;\n",
    "    0 1 0 1 1 0 0 0 1;\n",
    "    0 0 1 0 1 0 0 0 1;\n",
    "    0 0 1 1 0 0 1 0 0;\n",
    "    0 0 1 1 0 0 1 0 0;\n",
    "    0 0 1 1 0 0 1 0 0;\n",
    "    0 0 0 1 0 1 1 0 0;\n",
    "    0 0 0 1 0 1 0 0 0;\n",
    "    0 0 0 0 1 0 0 0 0;\n",
    "    1 1 0 0 1 0 0 0 0;\n",
    "    0 1 0 0 0 0 0 0 1;\n",
    "    0 1 0 1 0 0 0 0 1;\n",
    "    0 1 0 1 0 0 0 0 0;\n",
    "    0 0 0 0 1 0 1 0 0;\n",
    "    0 0 0 1 0 1 1 0 0\n",
    "]\n",
    "t = NamedArray(availability, (W,A), (\"Week\", \"Employee\"))\n",
    "\n",
    "\n",
    "# Parameters\n",
    "p_max = round(0.46 * num_weeks) # 24/52 = 0.46\n",
    "r_min = round(0.42 * num_weeks) # 22/52 = 0.42\n",
    "r_max = round(0.48 * num_weeks) # 25/52 = 0.48\n",
    "\n",
    "# Set constant to compute penalties and incentivize N/B balance\n",
    "p_Nx_ideal = p_max / 2\n",
    "p_Bx_ideal = p_max / 2\n",
    "\n",
    "r_Nx_ideal = round(0.23 * num_weeks) # 12/52\n",
    "r_Bx_ideal = round(0.23 * num_weeks) # 12/52\n",
    "\n",
    "# Modeling\n",
    "m = Model(Gurobi.Optimizer)\n",
    "set_optimizer_attribute(m, \"TimeLimit\", 20)\n",
    "set_optimizer_attribute(m, \"Presolve\", 0)\n",
    "\n",
    "# m = Model(NLopt.Optimizer)\n",
    "# set_optimizer_attribute(m, \"algorithm\", :LD_MMA)\n",
    "\n",
    "# Necropsies\n",
    "@variable(m, n[W,A], Bin)\n",
    "\n",
    "# Biopsies\n",
    "@variable(m, b[W,A], Bin)\n",
    "\n",
    "# Pathologist/resident target penalties for Nx & Bx\n",
    "p_bal_penalty = sum((sum(n[w,p] for w in W) - p_Nx_ideal)^2 + (sum(b[w,p] for w in W) - p_Bx_ideal)^2 for p in P)\n",
    "r_bal_penalty = sum((sum(n[w,r] for w in W) - r_Nx_ideal)^2 + (sum(b[w,r] for w in W) - r_Bx_ideal)^2 for r in R)\n",
    "\n",
    "# Penalty for consecutive weeks\n",
    "bb_penalty = sum(sum([b[w,a] for w in W[1:end-1]] .* [b[w,a] for w in W[2:end]]) for a in A)\n",
    "bn_penalty = sum(sum([b[w,a] for w in W[1:end-1]] .* [n[w,a] for w in W[2:end]]) for a in A)\n",
    "nn_penalty = sum(sum([n[w,a] for w in W[1:end-1]] .* [n[w,a] for w in W[2:end]]) for a in A)\n",
    "\n",
    "consecutive_penalties = bb_penalty + bn_penalty + nn_penalty\n",
    "\n",
    "#@expression(m, triplePenalty, sum(sum((b[w,a] + n[w,a]) * (b[w+1,a] + n[w+1,a]) * (b[w+2,a] + n[w+2,a]) for w in W[1:end-2]) for a in A))\n",
    "@objective(m, Min, p_bal_penalty + r_bal_penalty + consecutive_weight + 3 * nn_penalty + 2 * bn_penalty + bb_penalty)\n",
    "\n",
    "# Pathology limits\n",
    "# @constraint(m, pLimit[p in P], sum(n[w,p] + b[w,p] for w in W) <= p_max)\n",
    "\n",
    "# Resident limits\n",
    "#@constraint(m, rLimit[r in R], r_min <= sum(n[w,r] + b[w,r] for w in W) <= r_max)\n",
    "\n",
    "# Minimum staff for each duty\n",
    "@constraint(m, minNx[w in W], sum(n[w,a] for a in A) >= 1)\n",
    "@constraint(m, minBx[w in W], sum(b[w,a] for a in A) >= 1)\n",
    "\n",
    "# Availability\n",
    "@constraint(m, oneDuty[w in W, a in A], n[w,a] + b[w,a] <= -t[w,a] + 1)\n",
    "\n",
    "# Resident must be paired with pathologist per duty\n",
    "@constraint(m, rNxPair[w in W], sum(n[w,r] for r in R) <= sum(n[w,p] for p in P))\n",
    "@constraint(m, rBxPair[w in W], sum(b[w,r] for r in R)  <= sum(b[w,p] for p in P))\n",
    "\n",
    "# Maximum 1 resident per duty\n",
    "@constraint(m, rNxMax[w in W], sum(n[w,r] for r in R) <= 1)\n",
    "@constraint(m, rBxMax[w in W], sum(b[w,r] for r in R) <= 1)\n",
    "\n",
    "cons = zeros(num_weeks, num_weeks)\n",
    "for i in axes(cons[1:end-2,:],1)\n",
    "    cons[i,i:i+2] .= 1\n",
    "end\n",
    "\n",
    "@constraint(m, noTriple[a in A, w in W], dot(n[:,a] .+ b[:,a], cons[w,:]) <= 2)\n",
    "#@constraint(m, noTriple2[a in A, w in W], (n[:,a] .+ b[:,a]) .* cons[w,:] <= 3)\n",
    "\n",
    "JuMP.optimize!(m)\n",
    "solution_summary(m)"
   ]
  },
  {
   "cell_type": "code",
   "execution_count": 62,
   "id": "6e39b0e6",
   "metadata": {},
   "outputs": [
    {
     "name": "stdout",
     "output_type": "stream",
     "text": [
      "NM 5.0 5.0\n",
      "MP 5.0 5.0\n",
      "SA 5.0 4.0\n",
      "LKC 2.0 2.0\n",
      "DG 5.0 5.0\n",
      "MC 5.0 4.0\n",
      "AK 4.0 3.0\n",
      "CC 4.0 4.0\n",
      "KB 5.0 4.0\n"
     ]
    }
   ],
   "source": [
    "function print_balance(b, n, W, staff)\n",
    "    for a in staff\n",
    "        bsum = sum(b[w,a] for w in W)\n",
    "        nsum = sum(n[w,a] for w in W)\n",
    "        println(a,\" \",value(nsum),\" \",value(bsum))\n",
    "    end\n",
    "end\n",
    "\n",
    "print_balance(b, n, W, A)"
   ]
  },
  {
   "cell_type": "code",
   "execution_count": 63,
   "id": "9524d41e",
   "metadata": {},
   "outputs": [
    {
     "data": {
      "text/plain": [
       "(2-dimensional DenseAxisArray{Float64,2,...} with index sets:\n",
       "    Dimension 1, 1:21\n",
       "    Dimension 2, [:NM, :MP, :SA, :LKC, :DG, :MC, :AK, :CC, :KB]\n",
       "And data, a 21×9 Matrix{Float64}:\n",
       "  0.0   1.0  -1.0   0.0   0.0  -1.0   0.0   0.0   1.0\n",
       " -1.0   0.0   0.0   0.0  -1.0   0.0  -1.0   0.0   0.0\n",
       "  0.0  -1.0   0.0   0.0   1.0   1.0   0.0  -1.0   0.0\n",
       " -1.0   0.0   0.0   0.0   0.0   0.0   0.0   0.0  -1.0\n",
       "  1.0   0.0   0.0   0.0  -1.0  -1.0   1.0   0.0   0.0\n",
       "  0.0  -1.0   1.0   0.0   1.0   1.0   0.0   0.0  -1.0\n",
       " -1.0   0.0   0.0   0.0   0.0   0.0  -1.0   0.0   0.0\n",
       "  1.0   0.0  -1.0   0.0   0.0  -1.0   0.0   0.0   0.0\n",
       "  0.0   1.0   0.0  -1.0   0.0   0.0  -1.0   1.0   0.0\n",
       "  0.0   1.0   0.0   0.0  -1.0  -1.0   0.0   0.0   1.0\n",
       "  1.0   0.0   0.0   0.0  -1.0   0.0   0.0   0.0   1.0\n",
       "  0.0  -1.0   0.0   0.0   0.0   0.0   0.0  -1.0   0.0\n",
       "  1.0  -1.0   1.0   0.0   0.0   0.0   0.0   1.0  -1.0\n",
       "  0.0   0.0  -1.0   0.0   1.0   0.0  -1.0   0.0   1.0\n",
       "  1.0  -1.0   0.0   0.0   0.0   1.0   0.0  -1.0   0.0\n",
       "  0.0   0.0  -1.0   1.0   0.0   0.0   1.0   0.0   0.0\n",
       " -1.0   0.0   0.0   1.0   1.0   0.0   1.0  -1.0   0.0\n",
       "  0.0   0.0  -1.0   0.0   0.0  -1.0   0.0   0.0   0.0\n",
       " -1.0   0.0   1.0   0.0   1.0   1.0   0.0   0.0  -1.0\n",
       "  0.0   1.0   0.0  -1.0   0.0   0.0   0.0   1.0   0.0\n",
       "  0.0   1.0   1.0   0.0  -1.0   0.0   0.0   1.0  -1.0, 9.0)"
      ]
     },
     "execution_count": 63,
     "metadata": {},
     "output_type": "execute_result"
    }
   ],
   "source": [
    "# CONSTRAINT TASKS\n",
    "\n",
    "# [TO-DO] Maximize N/B/OFF cycles\n",
    "# [TO-DO] Incorporate running balance from previous period (This will be important for recomputing schedule)\n",
    "# [TO-DO] Insert RARC in 2 week chunks for residents\n",
    "\n",
    "# [DONE] Time-off \n",
    "# [DONE] Limit on number of N/B resident \n",
    "# [DONE] Limit on number of N/B pathologist\n",
    "# [DONE] Balance # N/B rotations\n",
    "\n",
    "# Necropsy printed as -1 if scheduled, Biopsy printed +1\n",
    "value.(-n .+ b), value(consecutive_penalties)"
   ]
  },
  {
   "cell_type": "code",
   "execution_count": 22,
   "id": "ca91ad97",
   "metadata": {},
   "outputs": [
    {
     "ename": "LoadError",
     "evalue": "KeyError: key 21 not found",
     "output_type": "error",
     "traceback": [
      "KeyError: key 21 not found",
      "",
      "Stacktrace:",
      "  [1] getindex(#unused#::JuMP.Containers._AxisLookup{Dict{Symbol, Int64}}, key::Int64)",
      "    @ JuMP.Containers ~/.julia/packages/JuMP/lnUbA/src/Containers/DenseAxisArray.jl:18",
      "  [2] _getindex_recurse(data::Tuple{JuMP.Containers._AxisLookup{Dict{Symbol, Int64}}}, keys::Tuple{Int64}, condition::JuMP.Containers.var\"#10#12\")",
      "    @ JuMP.Containers ~/.julia/packages/JuMP/lnUbA/src/Containers/DenseAxisArray.jl:309",
      "  [3] _getindex_recurse(data::Tuple{JuMP.Containers._AxisLookup{Tuple{Int64, Int64}}, JuMP.Containers._AxisLookup{Dict{Symbol, Int64}}}, keys::Tuple{Int64, Int64}, condition::JuMP.Containers.var\"#10#12\")",
      "    @ JuMP.Containers ~/.julia/packages/JuMP/lnUbA/src/Containers/DenseAxisArray.jl:308",
      "  [4] to_index(A::JuMP.Containers.DenseAxisArray{AffExpr, 2, Tuple{UnitRange{Int64}, Vector{Symbol}}, Tuple{JuMP.Containers._AxisLookup{Tuple{Int64, Int64}}, JuMP.Containers._AxisLookup{Dict{Symbol, Int64}}}}, idx::Tuple{Int64, Int64})",
      "    @ JuMP.Containers ~/.julia/packages/JuMP/lnUbA/src/Containers/DenseAxisArray.jl:318",
      "  [5] getindex(::JuMP.Containers.DenseAxisArray{AffExpr, 2, Tuple{UnitRange{Int64}, Vector{Symbol}}, Tuple{JuMP.Containers._AxisLookup{Tuple{Int64, Int64}}, JuMP.Containers._AxisLookup{Dict{Symbol, Int64}}}}, ::Int64, ::Int64)",
      "    @ JuMP.Containers ~/.julia/packages/JuMP/lnUbA/src/Containers/DenseAxisArray.jl:325",
      "  [6] (::var\"#305#306\"{Int64})(j::Int64)",
      "    @ Main ./none:0",
      "  [7] MappingRF",
      "    @ ./reduce.jl:95 [inlined]",
      "  [8] _foldl_impl(op::Base.MappingRF{var\"#305#306\"{Int64}, Base.BottomRF{typeof(Base.add_sum)}}, init::Base._InitialValue, itr::Int64)",
      "    @ Base ./reduce.jl:58",
      "  [9] foldl_impl",
      "    @ ./reduce.jl:48 [inlined]",
      " [10] mapfoldl_impl",
      "    @ ./reduce.jl:44 [inlined]",
      " [11] #mapfoldl#244",
      "    @ ./reduce.jl:162 [inlined]",
      " [12] mapfoldl",
      "    @ ./reduce.jl:162 [inlined]",
      " [13] #mapreduce#248",
      "    @ ./reduce.jl:289 [inlined]",
      " [14] mapreduce",
      "    @ ./reduce.jl:289 [inlined]",
      " [15] #sum#251",
      "    @ ./reduce.jl:503 [inlined]",
      " [16] sum",
      "    @ ./reduce.jl:503 [inlined]",
      " [17] #sum#252",
      "    @ ./reduce.jl:532 [inlined]",
      " [18] sum(a::Base.Generator{Int64, var\"#305#306\"{Int64}})",
      "    @ Base ./reduce.jl:532",
      " [19] top-level scope",
      "    @ In[22]:10",
      " [20] eval",
      "    @ ./boot.jl:373 [inlined]",
      " [21] include_string(mapexpr::typeof(REPL.softscope), mod::Module, code::String, filename::String)",
      "    @ Base ./loading.jl:1196"
     ]
    }
   ],
   "source": [
    "\n"
   ]
  },
  {
   "cell_type": "code",
   "execution_count": 19,
   "id": "a56aec60",
   "metadata": {},
   "outputs": [
    {
     "ename": "LoadError",
     "evalue": "DimensionMismatch(\"one array has length 441 which does not match the length of the next one, 189.\")",
     "output_type": "error",
     "traceback": [
      "DimensionMismatch(\"one array has length 441 which does not match the length of the next one, 189.\")",
      "",
      "Stacktrace:",
      " [1] _same_length",
      "   @ ~/.julia/packages/MutableArithmetics/UtY4H/src/reduce.jl:4 [inlined]",
      " [2] fused_map_reduce(::typeof(MutableArithmetics.add_dot), ::Matrix{Float64}, ::Matrix{AffExpr})",
      "   @ MutableArithmetics ~/.julia/packages/MutableArithmetics/UtY4H/src/reduce.jl:29",
      " [3] operate",
      "   @ ~/.julia/packages/MutableArithmetics/UtY4H/src/linear_algebra.jl:427 [inlined]",
      " [4] dot(lhs::Matrix{Float64}, rhs::Matrix{AffExpr})",
      "   @ MutableArithmetics ~/.julia/packages/MutableArithmetics/UtY4H/src/dispatch.jl:48",
      " [5] top-level scope",
      "   @ In[19]:1",
      " [6] eval",
      "   @ ./boot.jl:373 [inlined]",
      " [7] include_string(mapexpr::typeof(REPL.softscope), mod::Module, code::String, filename::String)",
      "   @ Base ./loading.jl:1196"
     ]
    }
   ],
   "source": [
    "dot(cons, )"
   ]
  },
  {
   "cell_type": "code",
   "execution_count": 32,
   "id": "aafb7e7c",
   "metadata": {},
   "outputs": [
    {
     "ename": "LoadError",
     "evalue": "DimensionMismatch(\"one array has length 21 which does not match the length of the next one, 441.\")",
     "output_type": "error",
     "traceback": [
      "DimensionMismatch(\"one array has length 21 which does not match the length of the next one, 441.\")",
      "",
      "Stacktrace:",
      " [1] _same_length",
      "   @ ~/.julia/packages/MutableArithmetics/UtY4H/src/reduce.jl:4 [inlined]",
      " [2] fused_map_reduce(::typeof(MutableArithmetics.add_dot), ::Transpose{AffExpr, JuMP.Containers.DenseAxisArray{AffExpr, 1, Tuple{UnitRange{Int64}}, Tuple{JuMP.Containers._AxisLookup{Tuple{Int64, Int64}}}}}, ::Matrix{Float64})",
      "   @ MutableArithmetics ~/.julia/packages/MutableArithmetics/UtY4H/src/reduce.jl:29",
      " [3] operate",
      "   @ ~/.julia/packages/MutableArithmetics/UtY4H/src/linear_algebra.jl:427 [inlined]",
      " [4] dot(lhs::Transpose{AffExpr, JuMP.Containers.DenseAxisArray{AffExpr, 1, Tuple{UnitRange{Int64}}, Tuple{JuMP.Containers._AxisLookup{Tuple{Int64, Int64}}}}}, rhs::Matrix{Float64})",
      "   @ MutableArithmetics ~/.julia/packages/MutableArithmetics/UtY4H/src/dispatch.jl:46",
      " [5] top-level scope",
      "   @ In[32]:1",
      " [6] eval",
      "   @ ./boot.jl:373 [inlined]",
      " [7] include_string(mapexpr::typeof(REPL.softscope), mod::Module, code::String, filename::String)",
      "   @ Base ./loading.jl:1196"
     ]
    }
   ],
   "source": [
    "dot(transpose(n[:,:NM] .+ b[:,:NM]), cons)"
   ]
  },
  {
   "cell_type": "code",
   "execution_count": 47,
   "id": "cdf2a967",
   "metadata": {},
   "outputs": [
    {
     "data": {
      "text/latex": [
       "$$ n_{19,NM} + b_{19,NM} + n_{20,NM} + b_{20,NM} + n_{21,NM} + b_{21,NM} $$"
      ],
      "text/plain": [
       "n[19,NM] + b[19,NM] + n[20,NM] + b[20,NM] + n[21,NM] + b[21,NM]"
      ]
     },
     "execution_count": 47,
     "metadata": {},
     "output_type": "execute_result"
    }
   ],
   "source": [
    "dot(n[:,:NM] .+ b[:,:NM], cons[19,:])"
   ]
  },
  {
   "cell_type": "code",
   "execution_count": 42,
   "id": "71075b57",
   "metadata": {},
   "outputs": [
    {
     "data": {
      "text/plain": [
       "21-element Vector{Float64}:\n",
       " 1.0\n",
       " 1.0\n",
       " 1.0\n",
       " 0.0\n",
       " 0.0\n",
       " 0.0\n",
       " 0.0\n",
       " 0.0\n",
       " 0.0\n",
       " 0.0\n",
       " 0.0\n",
       " 0.0\n",
       " 0.0\n",
       " 0.0\n",
       " 0.0\n",
       " 0.0\n",
       " 0.0\n",
       " 0.0\n",
       " 0.0\n",
       " 0.0\n",
       " 0.0"
      ]
     },
     "execution_count": 42,
     "metadata": {},
     "output_type": "execute_result"
    }
   ],
   "source": [
    "cons[1,:]"
   ]
  },
  {
   "cell_type": "code",
   "execution_count": null,
   "id": "735a5956",
   "metadata": {},
   "outputs": [],
   "source": []
  }
 ],
 "metadata": {
  "kernelspec": {
   "display_name": "Julia 1.7.1",
   "language": "julia",
   "name": "julia-1.7"
  },
  "language_info": {
   "file_extension": ".jl",
   "mimetype": "application/julia",
   "name": "julia",
   "version": "1.7.1"
  }
 },
 "nbformat": 4,
 "nbformat_minor": 5
}
